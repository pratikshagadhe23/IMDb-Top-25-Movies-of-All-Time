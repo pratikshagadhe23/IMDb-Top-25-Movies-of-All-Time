{
  "nbformat": 4,
  "nbformat_minor": 0,
  "metadata": {
    "colab": {
      "provenance": []
    },
    "kernelspec": {
      "name": "python3",
      "display_name": "Python 3"
    },
    "language_info": {
      "name": "python"
    }
  },
  "cells": [
    {
      "cell_type": "markdown",
      "source": [
        "------------**Practice : IMDb Top 25 Movies of All Time**-----------------"
      ],
      "metadata": {
        "id": "bcTbEscUOxpS"
      }
    },
    {
      "cell_type": "code",
      "source": [
        "import requests\n",
        "from bs4 import BeautifulSoup\n",
        "\n",
        "url = 'https://www.imdb.com/list/ls024149810/'\n",
        "r = requests.get(url)   #get() : allows to download & access the html\n",
        "\n",
        "print(r.status_code)\n",
        "\n",
        "# Creating Beautifulsoup object : allows to parse through the html contents:\n",
        "soup = BeautifulSoup(r.content, 'html.parser')"
      ],
      "metadata": {
        "id": "zx7h0NXGiOee"
      },
      "execution_count": null,
      "outputs": []
    },
    {
      "cell_type": "code",
      "source": [
        "#Inspecting & Extracting Data :\n",
        "\n",
        "#Extracting the Movie title:\n",
        "\n",
        "headers1 = soup.find_all('h3', {'class': 'lister-item-header'})\n",
        "print(headers1)\n",
        "\n",
        "movie_title =[]\n",
        "\n",
        "movie_title = []\n",
        "for title in headers1:\n",
        "    titles = title.find('a', href = True).get_text()\n",
        "    movie_title.append(titles)\n",
        "    print(movie_title)"
      ],
      "metadata": {
        "id": "f8iRxCmhPFSu"
      },
      "execution_count": null,
      "outputs": []
    },
    {
      "cell_type": "code",
      "source": [
        "# Extracting the Ratings:\n",
        "headers2 = soup.find_all('div', class_='ipl-rating-star small')\n",
        "\n",
        "print(headers2)\n",
        "\n",
        "movie_ratings = []\n",
        "\n",
        "for mr in headers2:\n",
        "    rating = mr.find('span', class_='ipl-rating-star__rating').get_text()\n",
        "    movie_ratings.append(rating)\n",
        "\n",
        "print(movie_ratings)\n"
      ],
      "metadata": {
        "id": "0ouTmbArU1kf"
      },
      "execution_count": null,
      "outputs": []
    },
    {
      "cell_type": "code",
      "source": [
        "headers3 = soup.find_all('span',{'class':'genre'})\n",
        "print(headers3)\n",
        "\n",
        "movie_genre =[]\n",
        "\n",
        "for mg in headers3:\n",
        "  genre = mg.get_text()\n",
        "  movie_genre.append(genre)\n",
        "\n",
        "print(movie_genre)"
      ],
      "metadata": {
        "id": "bHy7UjvcaRkL"
      },
      "execution_count": null,
      "outputs": []
    },
    {
      "cell_type": "code",
      "source": [
        "#Saving it as DataFrame; Pandas DataFrame : makes it easy to scrape data & analyze; Pass each item as a dictionary:\n",
        "import pandas as pd\n",
        "\n",
        "#The dictionary keys are the columns and each list is the value associated with column:\n",
        "\n",
        "top_movies = pd.DataFrame({\n",
        "    'Movie title' : movie_title,\n",
        "    'Ratings' : movie_ratings,\n",
        "    'Genre' : movie_genre\n",
        "})\n",
        "\n",
        "print(top_movies)"
      ],
      "metadata": {
        "colab": {
          "base_uri": "https://localhost:8080/"
        },
        "id": "W4yyjpltbUmg",
        "outputId": "1d4c3c8e-af4c-4641-cf06-655e29142bf8"
      },
      "execution_count": 79,
      "outputs": [
        {
          "output_type": "stream",
          "name": "stdout",
          "text": [
            "                                          Movie title Ratings  \\\n",
            "0                            The Shawshank Redemption     9.3   \n",
            "1                                       The Godfather     9.2   \n",
            "2                                        Citizen Kane     8.3   \n",
            "3                                        12 Angry Men       9   \n",
            "4                                    Schindler's List       9   \n",
            "5                      The Good, the Bad and the Ugly     8.8   \n",
            "6      Star Wars: Episode V - The Empire Strikes Back     8.7   \n",
            "7       The Lord of the Rings: The Return of the King       9   \n",
            "8                                     The Dark Knight       9   \n",
            "9                               The Godfather Part II       9   \n",
            "10                                       Pulp Fiction     8.9   \n",
            "11                                         Fight Club     8.8   \n",
            "12                                             Psycho     8.5   \n",
            "13                              2001: A Space Odyssey     8.3   \n",
            "14                                         Metropolis     8.3   \n",
            "15                 Star Wars: Episode IV - A New Hope     8.6   \n",
            "16  The Lord of the Rings: The Fellowship of the Ring     8.9   \n",
            "17                         Terminator 2: Judgment Day     8.6   \n",
            "18                                         The Matrix     8.7   \n",
            "19                            Raiders of the Lost Ark     8.4   \n",
            "20                                         Casablanca     8.5   \n",
            "21                                   The Wizard of Oz     8.1   \n",
            "22                                      Seven Samurai     8.6   \n",
            "23                                       Forrest Gump     8.8   \n",
            "24                                          Inception     8.8   \n",
            "\n",
            "                                       Genre  \n",
            "0                        \\nDrama              \n",
            "1                 \\nCrime, Drama              \n",
            "2               \\nDrama, Mystery              \n",
            "3                 \\nCrime, Drama              \n",
            "4    \\nBiography, Drama, History              \n",
            "5           \\nAdventure, Western              \n",
            "6   \\nAction, Adventure, Fantasy              \n",
            "7     \\nAction, Adventure, Drama              \n",
            "8         \\nAction, Crime, Drama              \n",
            "9                 \\nCrime, Drama              \n",
            "10                \\nCrime, Drama              \n",
            "11                       \\nDrama              \n",
            "12   \\nHorror, Mystery, Thriller              \n",
            "13           \\nAdventure, Sci-Fi              \n",
            "14               \\nDrama, Sci-Fi              \n",
            "15  \\nAction, Adventure, Fantasy              \n",
            "16    \\nAction, Adventure, Drama              \n",
            "17   \\nAction, Adventure, Sci-Fi              \n",
            "18              \\nAction, Sci-Fi              \n",
            "19           \\nAction, Adventure              \n",
            "20         \\nDrama, Romance, War              \n",
            "21  \\nAdventure, Family, Fantasy              \n",
            "22               \\nAction, Drama              \n",
            "23              \\nDrama, Romance              \n",
            "24   \\nAction, Adventure, Sci-Fi              \n"
          ]
        }
      ]
    }
  ]
}